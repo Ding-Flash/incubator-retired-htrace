{
 "cells": [
  {
   "cell_type": "code",
   "execution_count": 17,
   "metadata": {},
   "outputs": [],
   "source": [
    "from parseHtrace import Parse, hash_tree\n",
    "import pandas as pd\n",
    "import numpy as np\n",
    "import matplotlib.pyplot as plt\n",
    "\n",
    "%matplotlib inline"
   ]
  },
  {
   "cell_type": "code",
   "execution_count": 7,
   "metadata": {},
   "outputs": [
    {
     "name": "stderr",
     "output_type": "stream",
     "text": [
      "31it [00:08,  3.46it/s]\n",
      "  0%|          | 0/771371 [00:00<?, ?it/s]"
     ]
    },
    {
     "name": "stdout",
     "output_type": "stream",
     "text": [
      "collect nodes...\n"
     ]
    },
    {
     "name": "stderr",
     "output_type": "stream",
     "text": [
      "100%|██████████| 771371/771371 [00:03<00:00, 238087.23it/s]\n"
     ]
    },
    {
     "name": "stdout",
     "output_type": "stream",
     "text": [
      "collect nodes finished\n"
     ]
    }
   ],
   "source": [
    "bench = Parse('kmeans.out')\n",
    "bench.parse_nodes()\n",
    "root_nodes = [bench.nodes[hash_node] for hash_node in bench.call]\n",
    "nodes_info = {\n",
    "    'name': [],\n",
    "    'time': [],\n",
    "    'begin': [],\n",
    "    'end': []\n",
    "}\n",
    "for root in root_nodes:\n",
    "    nodes_info['name'].append(root['name'])\n",
    "    nodes_info['time'].append(root['time'])\n",
    "    nodes_info['begin'].append(root['begin'])\n",
    "    nodes_info['end'].append(root['end'])"
   ]
  },
  {
   "cell_type": "code",
   "execution_count": 8,
   "metadata": {},
   "outputs": [
    {
     "data": {
      "text/plain": [
       "DFSOutputStream#write                                           75924\n",
       "DFSInputStream#byteArrayRead                                      192\n",
       "getFileInfo                                                        92\n",
       "DFSOutputStream#close                                              36\n",
       "DistributedFileSystem#create                                       36\n",
       "setPermission                                                      30\n",
       "listPaths                                                          12\n",
       "setReplication                                                     12\n",
       "Globber#glob                                                       10\n",
       "DistributedFileSystem#open                                          7\n",
       "DistributedFileSystem#mkdirs                                        6\n",
       "FileSystem#createFileSystem                                         6\n",
       "getContentSummary                                                   2\n",
       "DFSClient#rename[src=/user/HiBench/Kmeans/Output/clusters-5]        1\n",
       "Name: name, dtype: int64"
      ]
     },
     "execution_count": 8,
     "metadata": {},
     "output_type": "execute_result"
    }
   ],
   "source": [
    "nodes_frame = pd.DataFrame(nodes_info)\n",
    "nodes_frame['name'].value_counts()"
   ]
  },
  {
   "cell_type": "code",
   "execution_count": 15,
   "metadata": {},
   "outputs": [],
   "source": [
    "n = nodes_frame"
   ]
  },
  {
   "cell_type": "code",
   "execution_count": null,
   "metadata": {},
   "outputs": [],
   "source": []
  },
  {
   "cell_type": "code",
   "execution_count": null,
   "metadata": {},
   "outputs": [],
   "source": []
  }
 ],
 "metadata": {
  "kernelspec": {
   "display_name": "Python 3",
   "language": "python",
   "name": "python3"
  },
  "language_info": {
   "codemirror_mode": {
    "name": "ipython",
    "version": 3
   },
   "file_extension": ".py",
   "mimetype": "text/x-python",
   "name": "python",
   "nbconvert_exporter": "python",
   "pygments_lexer": "ipython3",
   "version": "3.7.0"
  }
 },
 "nbformat": 4,
 "nbformat_minor": 2
}
